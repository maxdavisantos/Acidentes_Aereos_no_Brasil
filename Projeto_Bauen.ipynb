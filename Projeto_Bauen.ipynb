{
  "nbformat": 4,
  "nbformat_minor": 0,
  "metadata": {
    "colab": {
      "name": "Projeto-Bauen.ipynb",
      "provenance": [],
      "collapsed_sections": []
    },
    "kernelspec": {
      "name": "python3",
      "display_name": "Python 3"
    },
    "language_info": {
      "name": "python"
    }
  },
  "cells": [
    {
      "cell_type": "markdown",
      "source": [
        "## Import das bibliotecas que serão utilizadas:"
      ],
      "metadata": {
        "id": "Nf3EdKSTCx83"
      }
    },
    {
      "cell_type": "markdown",
      "source": [
        "*Introdução*\n",
        "\n",
        "O trabalho a seguir tem como objetivo aplicar os conceitos aprendidos durante as aulas de Ciência de Dados, além de pesquisar em artigos e documentações técnicas sobre Python. Fizemos uma análise focada na criação de gráficos para apresentação dos dados, e para isso fizemos uso dos dados fornecidos pela base de dados de ocorrências aeronáuticas, mais especificamente sobre acidentes aéreos ocorridos no Brasil de 2010 a 2019 Opendata AIG Brazil."
      ],
      "metadata": {
        "id": "2lqIO6IiqyQv"
      }
    },
    {
      "cell_type": "code",
      "execution_count": null,
      "metadata": {
        "id": "VAGM9LHx1RnI"
      },
      "outputs": [],
      "source": [
        "import numpy as np\n",
        "import pandas as pd\n",
        "import tensorflow as tf\n",
        "import matplotlib.pyplot as plt\n",
        "\n",
        "from tensorflow.keras import layers"
      ]
    },
    {
      "cell_type": "markdown",
      "source": [
        "## Leitura do dataset e exibição de 5 exemplos:"
      ],
      "metadata": {
        "id": "vLj-aLbKC4lF"
      }
    },
    {
      "cell_type": "code",
      "source": [
        "dataset = pd.read_csv('https://raw.githubusercontent.com/LucasFrigo/dataset-acidentes-aereos/main/ocorrencias_cenipa.csv')\n",
        "dataset.head()"
      ],
      "metadata": {
        "id": "3emSIC8e_dXP",
        "outputId": "6eae8629-a909-4257-be25-573b6c86a093",
        "colab": {
          "base_uri": "https://localhost:8080/",
          "height": 473
        }
      },
      "execution_count": null,
      "outputs": [
        {
          "output_type": "execute_result",
          "data": {
            "text/plain": [
              "   codigo             tipo                                          descricao  \\\n",
              "0   40107         ACIDENTE  COLISÃO COM OBSTÁCULO DURANTE A DECOLAGEM E POUSO   \n",
              "1   40147         ACIDENTE  FALHA OU MAU FUNCIONAMENTO DE SISTEMA / COMPON...   \n",
              "2   40148         ACIDENTE                                          PANE SECA   \n",
              "3   40149         ACIDENTE                              FALHA DO MOTOR EM VOO   \n",
              "4   40150  INCIDENTE GRAVE                                  COM TREM DE POUSO   \n",
              "\n",
              "             cidade estado        data   ano      hora aeronave_liberada  \\\n",
              "0            GURUPÁ     PA  2010-01-12  2010  14:30:00               SIM   \n",
              "1  UNIÃO DA VITÓRIA     PR  2010-04-08  2010  14:20:00               SIM   \n",
              "2      CAMPO GRANDE     MS  2010-03-19  2010  19:30:00               SIM   \n",
              "3          LUZIÂNIA     GO  2010-03-21  2010  20:45:00               SIM   \n",
              "4       SANTA MARIA     RS  2010-03-10  2010  17:20:00               SIM   \n",
              "\n",
              "  status_investigacao  ...  ocorrencia_saida_pista aeronave_tipo  \\\n",
              "0          FINALIZADA  ...                     NÃO         AVIÃO   \n",
              "1          FINALIZADA  ...                     SIM         AVIÃO   \n",
              "2          FINALIZADA  ...                     NÃO         AVIÃO   \n",
              "3          FINALIZADA  ...                     NÃO         AVIÃO   \n",
              "4          FINALIZADA  ...                     NÃO         AVIÃO   \n",
              "\n",
              "           aeronave_fabricante motor_tipo aeronave_motor_quantidade  \\\n",
              "0  NEIVA INDUSTRIA AERONAUTICA     PISTÃO                 MONOMOTOR   \n",
              "1               PIPER AIRCRAFT     PISTÃO                   BIMOTOR   \n",
              "2              CESSNA AIRCRAFT     PISTÃO                 MONOMOTOR   \n",
              "3                      XAVANTE     PISTÃO                 MONOMOTOR   \n",
              "4               BEECH AIRCRAFT     PISTÃO                 MONOMOTOR   \n",
              "\n",
              "  aeronave_assentos  aeronave_ano_fabricacao  aeronave_pais_fabricante  \\\n",
              "0                 7                     1977                    BRASIL   \n",
              "1                 6                     1997                    BRASIL   \n",
              "2                 6                     1962                    BRASIL   \n",
              "3                 2                     1974                    BRASIL   \n",
              "4                 6                     1974                    BRASIL   \n",
              "\n",
              "  aeronave_fase_operacao aeronave_nivel_dano  \n",
              "0                  POUSO                LEVE  \n",
              "1                  POUSO         SUBSTANCIAL  \n",
              "2      APROXIMAÇÃO FINAL         SUBSTANCIAL  \n",
              "3              DECOLAGEM           DESTRUÍDA  \n",
              "4                  POUSO                LEVE  \n",
              "\n",
              "[5 rows x 21 columns]"
            ],
            "text/html": [
              "\n",
              "  <div id=\"df-50a9a3e8-0df9-40c7-9c1c-802ab7ccb7eb\">\n",
              "    <div class=\"colab-df-container\">\n",
              "      <div>\n",
              "<style scoped>\n",
              "    .dataframe tbody tr th:only-of-type {\n",
              "        vertical-align: middle;\n",
              "    }\n",
              "\n",
              "    .dataframe tbody tr th {\n",
              "        vertical-align: top;\n",
              "    }\n",
              "\n",
              "    .dataframe thead th {\n",
              "        text-align: right;\n",
              "    }\n",
              "</style>\n",
              "<table border=\"1\" class=\"dataframe\">\n",
              "  <thead>\n",
              "    <tr style=\"text-align: right;\">\n",
              "      <th></th>\n",
              "      <th>codigo</th>\n",
              "      <th>tipo</th>\n",
              "      <th>descricao</th>\n",
              "      <th>cidade</th>\n",
              "      <th>estado</th>\n",
              "      <th>data</th>\n",
              "      <th>ano</th>\n",
              "      <th>hora</th>\n",
              "      <th>aeronave_liberada</th>\n",
              "      <th>status_investigacao</th>\n",
              "      <th>...</th>\n",
              "      <th>ocorrencia_saida_pista</th>\n",
              "      <th>aeronave_tipo</th>\n",
              "      <th>aeronave_fabricante</th>\n",
              "      <th>motor_tipo</th>\n",
              "      <th>aeronave_motor_quantidade</th>\n",
              "      <th>aeronave_assentos</th>\n",
              "      <th>aeronave_ano_fabricacao</th>\n",
              "      <th>aeronave_pais_fabricante</th>\n",
              "      <th>aeronave_fase_operacao</th>\n",
              "      <th>aeronave_nivel_dano</th>\n",
              "    </tr>\n",
              "  </thead>\n",
              "  <tbody>\n",
              "    <tr>\n",
              "      <th>0</th>\n",
              "      <td>40107</td>\n",
              "      <td>ACIDENTE</td>\n",
              "      <td>COLISÃO COM OBSTÁCULO DURANTE A DECOLAGEM E POUSO</td>\n",
              "      <td>GURUPÁ</td>\n",
              "      <td>PA</td>\n",
              "      <td>2010-01-12</td>\n",
              "      <td>2010</td>\n",
              "      <td>14:30:00</td>\n",
              "      <td>SIM</td>\n",
              "      <td>FINALIZADA</td>\n",
              "      <td>...</td>\n",
              "      <td>NÃO</td>\n",
              "      <td>AVIÃO</td>\n",
              "      <td>NEIVA INDUSTRIA AERONAUTICA</td>\n",
              "      <td>PISTÃO</td>\n",
              "      <td>MONOMOTOR</td>\n",
              "      <td>7</td>\n",
              "      <td>1977</td>\n",
              "      <td>BRASIL</td>\n",
              "      <td>POUSO</td>\n",
              "      <td>LEVE</td>\n",
              "    </tr>\n",
              "    <tr>\n",
              "      <th>1</th>\n",
              "      <td>40147</td>\n",
              "      <td>ACIDENTE</td>\n",
              "      <td>FALHA OU MAU FUNCIONAMENTO DE SISTEMA / COMPON...</td>\n",
              "      <td>UNIÃO DA VITÓRIA</td>\n",
              "      <td>PR</td>\n",
              "      <td>2010-04-08</td>\n",
              "      <td>2010</td>\n",
              "      <td>14:20:00</td>\n",
              "      <td>SIM</td>\n",
              "      <td>FINALIZADA</td>\n",
              "      <td>...</td>\n",
              "      <td>SIM</td>\n",
              "      <td>AVIÃO</td>\n",
              "      <td>PIPER AIRCRAFT</td>\n",
              "      <td>PISTÃO</td>\n",
              "      <td>BIMOTOR</td>\n",
              "      <td>6</td>\n",
              "      <td>1997</td>\n",
              "      <td>BRASIL</td>\n",
              "      <td>POUSO</td>\n",
              "      <td>SUBSTANCIAL</td>\n",
              "    </tr>\n",
              "    <tr>\n",
              "      <th>2</th>\n",
              "      <td>40148</td>\n",
              "      <td>ACIDENTE</td>\n",
              "      <td>PANE SECA</td>\n",
              "      <td>CAMPO GRANDE</td>\n",
              "      <td>MS</td>\n",
              "      <td>2010-03-19</td>\n",
              "      <td>2010</td>\n",
              "      <td>19:30:00</td>\n",
              "      <td>SIM</td>\n",
              "      <td>FINALIZADA</td>\n",
              "      <td>...</td>\n",
              "      <td>NÃO</td>\n",
              "      <td>AVIÃO</td>\n",
              "      <td>CESSNA AIRCRAFT</td>\n",
              "      <td>PISTÃO</td>\n",
              "      <td>MONOMOTOR</td>\n",
              "      <td>6</td>\n",
              "      <td>1962</td>\n",
              "      <td>BRASIL</td>\n",
              "      <td>APROXIMAÇÃO FINAL</td>\n",
              "      <td>SUBSTANCIAL</td>\n",
              "    </tr>\n",
              "    <tr>\n",
              "      <th>3</th>\n",
              "      <td>40149</td>\n",
              "      <td>ACIDENTE</td>\n",
              "      <td>FALHA DO MOTOR EM VOO</td>\n",
              "      <td>LUZIÂNIA</td>\n",
              "      <td>GO</td>\n",
              "      <td>2010-03-21</td>\n",
              "      <td>2010</td>\n",
              "      <td>20:45:00</td>\n",
              "      <td>SIM</td>\n",
              "      <td>FINALIZADA</td>\n",
              "      <td>...</td>\n",
              "      <td>NÃO</td>\n",
              "      <td>AVIÃO</td>\n",
              "      <td>XAVANTE</td>\n",
              "      <td>PISTÃO</td>\n",
              "      <td>MONOMOTOR</td>\n",
              "      <td>2</td>\n",
              "      <td>1974</td>\n",
              "      <td>BRASIL</td>\n",
              "      <td>DECOLAGEM</td>\n",
              "      <td>DESTRUÍDA</td>\n",
              "    </tr>\n",
              "    <tr>\n",
              "      <th>4</th>\n",
              "      <td>40150</td>\n",
              "      <td>INCIDENTE GRAVE</td>\n",
              "      <td>COM TREM DE POUSO</td>\n",
              "      <td>SANTA MARIA</td>\n",
              "      <td>RS</td>\n",
              "      <td>2010-03-10</td>\n",
              "      <td>2010</td>\n",
              "      <td>17:20:00</td>\n",
              "      <td>SIM</td>\n",
              "      <td>FINALIZADA</td>\n",
              "      <td>...</td>\n",
              "      <td>NÃO</td>\n",
              "      <td>AVIÃO</td>\n",
              "      <td>BEECH AIRCRAFT</td>\n",
              "      <td>PISTÃO</td>\n",
              "      <td>MONOMOTOR</td>\n",
              "      <td>6</td>\n",
              "      <td>1974</td>\n",
              "      <td>BRASIL</td>\n",
              "      <td>POUSO</td>\n",
              "      <td>LEVE</td>\n",
              "    </tr>\n",
              "  </tbody>\n",
              "</table>\n",
              "<p>5 rows × 21 columns</p>\n",
              "</div>\n",
              "      <button class=\"colab-df-convert\" onclick=\"convertToInteractive('df-50a9a3e8-0df9-40c7-9c1c-802ab7ccb7eb')\"\n",
              "              title=\"Convert this dataframe to an interactive table.\"\n",
              "              style=\"display:none;\">\n",
              "        \n",
              "  <svg xmlns=\"http://www.w3.org/2000/svg\" height=\"24px\"viewBox=\"0 0 24 24\"\n",
              "       width=\"24px\">\n",
              "    <path d=\"M0 0h24v24H0V0z\" fill=\"none\"/>\n",
              "    <path d=\"M18.56 5.44l.94 2.06.94-2.06 2.06-.94-2.06-.94-.94-2.06-.94 2.06-2.06.94zm-11 1L8.5 8.5l.94-2.06 2.06-.94-2.06-.94L8.5 2.5l-.94 2.06-2.06.94zm10 10l.94 2.06.94-2.06 2.06-.94-2.06-.94-.94-2.06-.94 2.06-2.06.94z\"/><path d=\"M17.41 7.96l-1.37-1.37c-.4-.4-.92-.59-1.43-.59-.52 0-1.04.2-1.43.59L10.3 9.45l-7.72 7.72c-.78.78-.78 2.05 0 2.83L4 21.41c.39.39.9.59 1.41.59.51 0 1.02-.2 1.41-.59l7.78-7.78 2.81-2.81c.8-.78.8-2.07 0-2.86zM5.41 20L4 18.59l7.72-7.72 1.47 1.35L5.41 20z\"/>\n",
              "  </svg>\n",
              "      </button>\n",
              "      \n",
              "  <style>\n",
              "    .colab-df-container {\n",
              "      display:flex;\n",
              "      flex-wrap:wrap;\n",
              "      gap: 12px;\n",
              "    }\n",
              "\n",
              "    .colab-df-convert {\n",
              "      background-color: #E8F0FE;\n",
              "      border: none;\n",
              "      border-radius: 50%;\n",
              "      cursor: pointer;\n",
              "      display: none;\n",
              "      fill: #1967D2;\n",
              "      height: 32px;\n",
              "      padding: 0 0 0 0;\n",
              "      width: 32px;\n",
              "    }\n",
              "\n",
              "    .colab-df-convert:hover {\n",
              "      background-color: #E2EBFA;\n",
              "      box-shadow: 0px 1px 2px rgba(60, 64, 67, 0.3), 0px 1px 3px 1px rgba(60, 64, 67, 0.15);\n",
              "      fill: #174EA6;\n",
              "    }\n",
              "\n",
              "    [theme=dark] .colab-df-convert {\n",
              "      background-color: #3B4455;\n",
              "      fill: #D2E3FC;\n",
              "    }\n",
              "\n",
              "    [theme=dark] .colab-df-convert:hover {\n",
              "      background-color: #434B5C;\n",
              "      box-shadow: 0px 1px 3px 1px rgba(0, 0, 0, 0.15);\n",
              "      filter: drop-shadow(0px 1px 2px rgba(0, 0, 0, 0.3));\n",
              "      fill: #FFFFFF;\n",
              "    }\n",
              "  </style>\n",
              "\n",
              "      <script>\n",
              "        const buttonEl =\n",
              "          document.querySelector('#df-50a9a3e8-0df9-40c7-9c1c-802ab7ccb7eb button.colab-df-convert');\n",
              "        buttonEl.style.display =\n",
              "          google.colab.kernel.accessAllowed ? 'block' : 'none';\n",
              "\n",
              "        async function convertToInteractive(key) {\n",
              "          const element = document.querySelector('#df-50a9a3e8-0df9-40c7-9c1c-802ab7ccb7eb');\n",
              "          const dataTable =\n",
              "            await google.colab.kernel.invokeFunction('convertToInteractive',\n",
              "                                                     [key], {});\n",
              "          if (!dataTable) return;\n",
              "\n",
              "          const docLinkHtml = 'Like what you see? Visit the ' +\n",
              "            '<a target=\"_blank\" href=https://colab.research.google.com/notebooks/data_table.ipynb>data table notebook</a>'\n",
              "            + ' to learn more about interactive tables.';\n",
              "          element.innerHTML = '';\n",
              "          dataTable['output_type'] = 'display_data';\n",
              "          await google.colab.output.renderOutput(dataTable, element);\n",
              "          const docLink = document.createElement('div');\n",
              "          docLink.innerHTML = docLinkHtml;\n",
              "          element.appendChild(docLink);\n",
              "        }\n",
              "      </script>\n",
              "    </div>\n",
              "  </div>\n",
              "  "
            ]
          },
          "metadata": {},
          "execution_count": 5
        }
      ]
    },
    {
      "cell_type": "markdown",
      "source": [
        "## Grafico 1\n",
        "### Ocorrências por estado\n"
      ],
      "metadata": {
        "id": "Jv_jrEn9lX2g"
      }
    },
    {
      "cell_type": "markdown",
      "source": [
        "O gráfico a seguir compara a quantidade de ocorrencia de acidentes em diferentes estados do Brasil de 2010 até 2019. No gráfico é possível perceber que a quantia de acidentes em seu total é maior em SP do que nos estados restantes."
      ],
      "metadata": {
        "id": "EDByGRRYPBNu"
      }
    },
    {
      "cell_type": "code",
      "source": [
        "dataset['estado'].value_counts().plot(kind='bar', label=\"Ocorrências por estado\" ,figsize=(7, 7))\n",
        "\n",
        "plt.show()"
      ],
      "metadata": {
        "colab": {
          "base_uri": "https://localhost:8080/",
          "height": 435
        },
        "id": "IbBL93bzmXWZ",
        "outputId": "a6500dfc-eba2-4666-9b60-d1a690862054"
      },
      "execution_count": null,
      "outputs": [
        {
          "output_type": "display_data",
          "data": {
            "text/plain": [
              "<Figure size 504x504 with 1 Axes>"
            ],
            "image/png": "[encoded data removed]"
          },
          "metadata": {
            "needs_background": "light"
          }
        }
      ]
    },
    {
      "cell_type": "code",
      "source": [
        ""
      ],
      "metadata": {
        "id": "KfE18aWJnkYc"
      },
      "execution_count": null,
      "outputs": []
    },
    {
      "cell_type": "markdown",
      "source": [
        "# Grafico 2\n",
        "## Quantidade de Incidentes VS Quantidade de Acidentes VS Quantidade de Incidentes Graves"
      ],
      "metadata": {
        "id": "xLIFaw3Dprx0"
      }
    },
    {
      "cell_type": "markdown",
      "source": [
        "O gráfico a seguir compara a quantidade de acidentes, incidentes e acidentes graves que ocorreram entre os anos de 2010 até 2019. No gráfico é possível identificar que a quantia de incidentes em seu total representa um pouco mais de 50% dos eventos aéreos dessa comparação."
      ],
      "metadata": {
        "id": "bCA4OxnEN30t"
      }
    },
    {
      "cell_type": "code",
      "source": [
        "dataset['tipo'].value_counts().plot(kind='pie', autopct='%1.1f%%', label=\"Tipos de Ocorrência\" ,figsize=(10, 10))\n",
        "plt.show()"
      ],
      "metadata": {
        "colab": {
          "base_uri": "https://localhost:8080/",
          "height": 575
        },
        "id": "Niq3Dub5pzhM",
        "outputId": "6a9087ed-9e5e-4cea-fe54-ed2165107ab0"
      },
      "execution_count": null,
      "outputs": [
        {
          "output_type": "display_data",
          "data": {
            "text/plain": [
              "<Figure size 720x720 with 1 Axes>"
            ],
            "image/png": "[encoded data removed]"
          },
          "metadata": {}
        }
      ]
    },
    {
      "cell_type": "markdown",
      "source": [
        "# Grafico 3\n",
        "### Comparação entre os Tipos de motor mais comuns em acidentes"
      ],
      "metadata": {
        "id": "HC35cGrar1YR"
      }
    },
    {
      "cell_type": "markdown",
      "source": [
        "O gráfico a seguir compara os tipos de motor mais comuns em acidentesque foram usados e estavam presente nos acidentes aéreo entre os anos de 2010 até 2019. No gráfico é possível identificar que a quantiadade de motores do tipo Pistão ocupam cerca de 56% do total dos eventos aéreos dessa comparação."
      ],
      "metadata": {
        "id": "Q5ki80nehRiR"
      }
    },
    {
      "cell_type": "code",
      "source": [
        "dataset['motor_tipo'].value_counts().plot(kind='pie', autopct='%1.1f%%', label=\"Tipos de motor mais comun em acidentes\" ,figsize=(10, 10))\n",
        "plt.show()"
      ],
      "metadata": {
        "colab": {
          "base_uri": "https://localhost:8080/",
          "height": 575
        },
        "id": "wrNT7znZtQzA",
        "outputId": "ae8b2727-e952-4ccd-ae35-2ca4ed7ca3cd"
      },
      "execution_count": null,
      "outputs": [
        {
          "output_type": "display_data",
          "data": {
            "text/plain": [
              "<Figure size 720x720 with 1 Axes>"
            ],
            "image/png": "[encoded data removed]"
          },
          "metadata": {}
        }
      ]
    }
  ]
}